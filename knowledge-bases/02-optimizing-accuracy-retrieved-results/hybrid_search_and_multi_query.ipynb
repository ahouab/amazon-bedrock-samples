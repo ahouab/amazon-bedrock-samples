{
 "cells": [
  {
   "cell_type": "markdown",
   "id": "b9d645a8-e7a4-4345-b99c-a07c8d6d16cd",
   "metadata": {},
   "source": [
    "# Hybrid search and multi-query with RAG\n",
    "\n",
    "In this module, you'll learn about the hybrid search and multi query concepts, and how to apply them using Amazon Bedrock and Knowledge bases for Amazon Bedrock APIs.\n",
    "This module contains:\n",
    "1. [Overview](#1-Overview)\n",
    "2. [Pre-requisites](#2-Pre-requisites)\n",
    "3. [How hybrid search improves the FM generations?](#3-how-hybrid-search-improves-the-fm-generations)\n",
    "4. [How to apply multi-queries approach?](#4-how-to-apply-multi-queries-approach)"
   ]
  },
  {
   "cell_type": "markdown",
   "id": "f9aa2df8-376f-462a-bc3c-696010572d12",
   "metadata": {},
   "source": [
    "## Overview\n",
    "\n",
    "For RAG-based applications, the accuracy of the generated response from Foundation Models (FMs) is dependent on the context provided to the model. Context is retrieved from the vector database based on the user query. Semantic search is widely used because it is able to understand more human-like questions—a user’s query is not always directly related to the exact keywords in the content that answers it. \n",
    "\n",
    "Semantic search helps provide answers based on the meaning of the text. However, it has limitations in capturing all the relevant keywords. Its performance relies on the quality of the word embeddings used to represent meaning of the text. To overcome such limitations, you can combine semantic search with keyword search (hybrid search), which improve the relevance of search results.\n",
    "    "
   ]
  },
  {
   "cell_type": "markdown",
   "id": "8f113eaf",
   "metadata": {},
   "source": [
    "### Hybrid search\n",
    "\n",
    "Hybrid search takes advantage of the strengths of multiple search algorithms, integrating their unique capabilities to enhance the relevance of returned search results. For RAG-based applications, semantic search capabilities are commonly combined with traditional keyword-based search to improve the relevance of search results. It enables searching over both the content of documents and their underlying meaning.\n",
    "\n",
    "<!-- ![hybrid search](images/hybrid-overview.png) -->\n",
    "\n",
    "<img src=\"images/hybrid-overview.png\" width=\"50%\" height=\"30%\">\n",
    "\n",
    "\n",
    "\n",
    "It works great for RAG-based applications where the retriever has to handle a wide variety of natural language queries. The keywords help cover specific entities in the query such as product name, color, and price, while semantics better understands the meaning and intent within the query. For example, if you have want to build a chatbot for an ecommerce website to handle customer queries such as the return policy or details of the product, using hybrid search will be most suitable.\n",
    "\n",
    "<b>Benefits: </b>\n",
    "Both keyword and semantic search will return a separate set of results along with their relevancy scores, which are then combined to return the most relevant results."
   ]
  },
  {
   "cell_type": "markdown",
   "id": "d5eacb97",
   "metadata": {},
   "source": [
    "## Pre-requisites\n",
    "Before being able to answer the questions, the documents must be processed and stored in a knowledge base. For this notebook, we use a `Synthetic data` (10K financial reports for fictitious company) to create the Knowledge Base. \n",
    "\n",
    "1. Upload your documents (data source) to Amazon S3 bucket.\n",
    "2. Create the Knowledge Base using [1a_create_ingest_documents_test_kb.ipynb](https://github.com/aws-samples/amazon-bedrock-samples/blob/main/knowledge-bases/01-rag-concepts/1a_create_ingest_documents_test_kb.ipynb)\n",
    "3. Note the Knowledge Base ID\n"
   ]
  },
  {
   "cell_type": "markdown",
   "id": "260249fa",
   "metadata": {},
   "source": [
    "#### Notes:\n",
    "1. For our notebook we will use the ```Retrieve``` and ```RetrieveAndGenerate``` APIs provided by Knowledge Bases for Amazon Bedrock. These APIs convert queries into embeddings, searches the knowledge base, and then augment (in case of ```RetrieveAndGenerate``` API) the foundation model prompt with the search results as context information and returns the FM-generated response to the question. \n",
    "\n",
    "    -   The output of the ```RetrieveAndGenerate``` API includes the `generated response`, `source attribution` as well as the `retrieved text chunks`.\n",
    "    -   The output of the ```Retrieve API``` includes the the `retrieved text chunks`, the `location type` and `URI` of the source data, as well as the relevance `scores` of the retrievals. \n",
    "\n",
    "\n",
    "2. We will use the Anthropic Claude 3 Sonnet model on Amazon Bedrock for response generation."
   ]
  },
  {
   "cell_type": "markdown",
   "id": "b83791e2-dc57-475e-b9f0-77afc5e4b161",
   "metadata": {},
   "source": [
    "## Setup"
   ]
  },
  {
   "cell_type": "code",
   "execution_count": null,
   "id": "cdfa59f9",
   "metadata": {},
   "outputs": [],
   "source": [
    "%pip install --upgrade pip\n",
    "%pip install boto3 --force-reinstall --quiet\n",
    "%pip install botocore --force-reinstall --quiet\n",
    "%pip install langchain--force-reinstall --quiet\n",
    "%pip install langchain-community --force-reinstall --quiet\n",
    "%pip install langchain-aws --force-reinstall --quiet"
   ]
  },
  {
   "cell_type": "code",
   "execution_count": 8,
   "id": "27329ef4-6997-49c7-b0d5-d2b2672394d5",
   "metadata": {
    "tags": []
   },
   "outputs": [
    {
     "data": {
      "text/html": [
       "<script>Jupyter.notebook.kernel.restart()</script>"
      ],
      "text/plain": [
       "<IPython.core.display.HTML object>"
      ]
     },
     "execution_count": 8,
     "metadata": {},
     "output_type": "execute_result"
    }
   ],
   "source": [
    "# restart kernel\n",
    "from IPython.core.display import HTML\n",
    "HTML(\"<script>Jupyter.notebook.kernel.restart()</script>\")"
   ]
  },
  {
   "cell_type": "markdown",
   "id": "87b70d58-f2db-4e8c-b1cd-78a8ad3a6b59",
   "metadata": {},
   "source": [
    "### Initialize boto3 client and variables\n",
    "Through out the notebook, we are going to utilise RetrieveAndGenerate and Retrieve APIs to test knowledge base features."
   ]
  },
  {
   "cell_type": "code",
   "execution_count": 9,
   "id": "ae49e4b4-a689-4c15-bdff-35af66368689",
   "metadata": {
    "tags": []
   },
   "outputs": [],
   "source": [
    "import json\n",
    "import boto3\n",
    "import pprint as pp\n",
    "from botocore.exceptions import ClientError\n",
    "from botocore.client import Config\n",
    "\n",
    "kb_id = \"Y4NQIKORK8\" # replace it with your Knowledge base id.\n",
    "\n",
    "# Create boto3 session\n",
    "sts_client = boto3.client('sts')\n",
    "boto3_session = boto3.session.Session()\n",
    "region_name = boto3_session.region_name\n",
    "\n",
    "# Create bedrock agent client\n",
    "bedrock_config = Config(connect_timeout=120, read_timeout=120, retries={'max_attempts': 0}, region_name=region_name)\n",
    "bedrock_agent_client = boto3_session.client(\"bedrock-agent-runtime\",\n",
    "                              config=bedrock_config)\n",
    "# Create bedrock client\n",
    "bedrock_client = boto3_session.client(\"bedrock-runtime\",\n",
    "                              config=bedrock_config)\n",
    "\n",
    "# Define FM to be used for generations \n",
    "model_id = \"anthropic.claude-3-sonnet-20240229-v1:0\" # we will be using Anthropic Claude 3 Haiku throughout the notebook\n",
    "model_arn = f'arn:aws:bedrock:{region_name}::foundation-model/{model_id}'\n",
    "\n",
    "\n",
    "def retrieve_and_generate(query, kb_id, model_arn, max_results, search_type):\n",
    "    response = bedrock_agent_client.retrieve_and_generate(\n",
    "            input={\n",
    "                'text': query\n",
    "            },\n",
    "        retrieveAndGenerateConfiguration={\n",
    "        'type': 'KNOWLEDGE_BASE',\n",
    "        'knowledgeBaseConfiguration': {\n",
    "            'knowledgeBaseId': kb_id,\n",
    "            'modelArn': model_arn, \n",
    "            'retrievalConfiguration': {\n",
    "                'vectorSearchConfiguration': {\n",
    "                    'numberOfResults': max_results, # will fetch top N documents which closely match the query\n",
    "                    'overrideSearchType' : search_type # usese either SEMANTIC or HYBRID options\n",
    "                    }\n",
    "                }\n",
    "            }\n",
    "        }\n",
    "    )\n",
    "    return response\n",
    "\n",
    "def print_generation_results(response, print_context = True):\n",
    "    generated_text = response['output']['text']\n",
    "    print('Generated FM response:\\n')\n",
    "    pp.pprint(generated_text)\n",
    "    \n",
    "    if print_context is True:\n",
    "        ## print out the source attribution/citations from the original documents to see if the response generated belongs to the context.\n",
    "        citations = response[\"citations\"]\n",
    "        contexts = []\n",
    "        for citation in citations:\n",
    "            retrievedReferences = citation[\"retrievedReferences\"]\n",
    "            for reference in retrievedReferences:\n",
    "                contexts.append(reference[\"content\"][\"text\"])\n",
    "    \n",
    "        print('\\n\\n\\nRetrieved Context:\\n')\n",
    "        pp.pprint(contexts)\n",
    "\n",
    "def retrieve(query, kb_id, model_arn, max_results, search_type):\n",
    "    response = bedrock_agent_client.retrieve(\n",
    "            retrievalQuery={\n",
    "                'text': query\n",
    "            },\n",
    "        knowledgeBaseId= kb_id,\n",
    "        retrievalConfiguration={\n",
    "                'vectorSearchConfiguration': {\n",
    "                    'numberOfResults': max_results, # will fetch top N documents which closely match the query\n",
    "                    'overrideSearchType': search_type\n",
    "                    }\n",
    "            }\n",
    "    )\n",
    "    return response\n",
    "\n",
    "\n",
    "def print_results(response):\n",
    "\n",
    "    print('Retrieved documents:\\n')\n",
    "    \n",
    "    ## print out the source citations from the original documents\n",
    "    citations = response['retrievalResults']\n",
    "    for citation in citations:\n",
    "        pp.pprint(citation[\"content\"][\"text\"])\n"
   ]
  },
  {
   "cell_type": "markdown",
   "id": "bd90af71-3a75-4f91-a70b-e892a1b15376",
   "metadata": {},
   "source": [
    "### How hybrid search improves the documents retrieval?\n",
    "\n",
    "In the following examples, we are going to run the below query with semantic and hybrid search, and observe the documents retrieval and ultimately generated response.\n",
    "\n",
    "query = `What was the total operating lease cost recognized by the Company during the year ended December 31, 2022?`\n",
    "\n",
    "The right response for this query as per ground truth QA pair is: \n",
    "\n",
    "Expected response = `The Company recognized operating lease costs of $22.4 million during the year ended December 31, 2022.`"
   ]
  },
  {
   "cell_type": "markdown",
   "id": "379f1ff7",
   "metadata": {},
   "source": [
    "**Using semantic search**"
   ]
  },
  {
   "cell_type": "code",
   "execution_count": 10,
   "id": "6a5bdb4c-9184-4b35-8c2b-6c6fd8df9e12",
   "metadata": {},
   "outputs": [
    {
     "name": "stdout",
     "output_type": "stream",
     "text": [
      "Generated FM response:\n",
      "\n",
      "('According to the search results, the Company recognized operating lease '\n",
      " 'costs of $22.4 million during the year ended December 31, 2022. This amount '\n",
      " 'was included in occupancy and equipment expenses in the consolidated '\n",
      " 'statements of operations.')\n",
      "\n",
      "\n",
      "\n",
      "Retrieved Context:\n",
      "\n",
      "['Operating Leases   The Company leases office spaces, data centers, and '\n",
      " 'equipment under various non-cancelable operating leases. These leases have '\n",
      " 'remaining lease terms ranging from 1 to 10 years, some of which include '\n",
      " 'options to extend the leases for up to 5 years.   As of December 31, 2022, '\n",
      " 'the Company had operating lease ROU assets of $87.6 million and operating '\n",
      " 'lease liabilities of $92.3 million, of which $18.2 million was current and '\n",
      " '$74.1 million was non-current. During the year ended December 31, 2022, the '\n",
      " 'Company recognized operating lease costs of $22.4 million, which were '\n",
      " 'included in occupancy and equipment expenses in the consolidated statements '\n",
      " 'of operations.   The weighted-average remaining lease term for operating '\n",
      " 'leases as of December 31, 2022, was 5.2 years, and the weighted-average '\n",
      " 'discount rate was 4.8%.   Future minimum lease payments under non-cancelable '\n",
      " 'operating leases as of December 31, 2022, were as follows (in thousands):   '\n",
      " '2023: $20,500 2024: $19,300 2025: $17,800 2026: $15,200 2027: $12,600 '\n",
      " 'Thereafter: $22,400        Total future minimum lease payments: $107,800 '\n",
      " 'Less: imputed interest: $(15,500) Total operating lease liabilities: '\n",
      " '$92,300   Finance Leases   The Company also leases certain equipment under '\n",
      " 'various non-cancelable finance leases. These leases have remaining lease '\n",
      " 'terms ranging from 2 to 5 years.   As of December 31, 2022, the Company had '\n",
      " 'finance lease ROU assets of $6.2 million, which were included in property '\n",
      " 'and equipment, net, on the consolidated balance sheets. The Company had '\n",
      " 'finance lease liabilities of $6.5 million, of which $2.1 million was current '\n",
      " 'and $4.4 million was non-current.   During the year ended December 31, 2022, '\n",
      " 'the Company recognized finance lease costs of $1.8 million, which included '\n",
      " '$1.2 million of amortization expense and $0.6 million of interest expense. '\n",
      " 'These costs were included in depreciation and amortization expense and '\n",
      " 'interest expense, respectively, in the consolidated statements of '\n",
      " 'operations.',\n",
      " 'The Company recognizes the lease payments associated with its short-term '\n",
      " 'leases as an expense on a straight-line basis over the lease term.   '\n",
      " 'Operating lease ROU assets are presented separately on the consolidated '\n",
      " 'balance sheets. Finance leases are included in property and equipment on the '\n",
      " 'consolidated balance sheets. Operating lease liabilities are presented '\n",
      " 'separately as current and non-current liabilities on the consolidated '\n",
      " 'balance sheets.   Operating Leases   The Company leases office spaces, data '\n",
      " 'centers, and equipment under various non-cancelable operating leases. These '\n",
      " 'leases have remaining lease terms ranging from 1 to 10 years, some of which '\n",
      " 'include options to extend the leases for up to 5 years.   As of December 31, '\n",
      " '2022, the Company had operating lease ROU assets of $87.6 million and '\n",
      " 'operating lease liabilities of $92.3 million, of which $18.2 million was '\n",
      " 'current and $74.1 million was non-current. During the year ended December '\n",
      " '31, 2022, the Company recognized operating lease costs of $22.4 million, '\n",
      " 'which were included in occupancy and equipment expenses in the consolidated '\n",
      " 'statements of operations.   The weighted-average remaining lease term for '\n",
      " 'operating leases as of December 31, 2022, was 5.2 years, and the '\n",
      " 'weighted-average discount rate was 4.8%.   Future minimum lease payments '\n",
      " 'under non-cancelable operating leases as of December 31, 2022, were as '\n",
      " 'follows (in thousands):   2023: $20,500 2024: $19,300 2025: $17,800 2026: '\n",
      " '$15,200 2027: $12,600 Thereafter: $22,400        Total future minimum lease '\n",
      " 'payments: $107,800 Less: imputed interest: $(15,500) Total operating lease '\n",
      " 'liabilities: $92,300   Finance Leases   The Company also leases certain '\n",
      " 'equipment under various non-cancelable finance leases. These leases have '\n",
      " 'remaining lease terms ranging from 2 to 5 years.   As of December 31, 2022, '\n",
      " 'the Company had finance lease ROU assets of $6.2 million, which were '\n",
      " 'included in property and equipment, net, on the consolidated balance sheets. '\n",
      " 'The Company had finance lease liabilities of $6.5 million, of which $2.1 '\n",
      " 'million was current and $4.4 million was non-current.']\n"
     ]
    }
   ],
   "source": [
    "query = \"What was the total operating lease cost recognized by the Company during the year ended December 31, 2022?\"\n",
    "\n",
    "results = retrieve_and_generate(query = query, kb_id = kb_id, model_arn = model_arn, max_results = 5, search_type='SEMANTIC')\n",
    "\n",
    "print_generation_results(results)"
   ]
  },
  {
   "cell_type": "markdown",
   "id": "f2dbd46e",
   "metadata": {},
   "source": [
    "The generated respose using SEMANTIC search for above query is hallucinated."
   ]
  },
  {
   "cell_type": "markdown",
   "id": "e3f185ea",
   "metadata": {},
   "source": [
    "**Using hyprid search**"
   ]
  },
  {
   "cell_type": "code",
   "execution_count": 11,
   "id": "3e136631-6439-40bb-9ce2-54484895b2c8",
   "metadata": {},
   "outputs": [
    {
     "name": "stdout",
     "output_type": "stream",
     "text": [
      "Generated FM response:\n",
      "\n",
      "('According to the search results, the Company recognized operating lease '\n",
      " 'costs of $22.4 million during the year ended December 31, 2022. This amount '\n",
      " 'was included in occupancy and equipment expenses in the consolidated '\n",
      " 'statements of operations.')\n",
      "\n",
      "\n",
      "\n",
      "Retrieved Context:\n",
      "\n",
      "['Operating Leases   The Company leases office spaces, data centers, and '\n",
      " 'equipment under various non-cancelable operating leases. These leases have '\n",
      " 'remaining lease terms ranging from 1 to 10 years, some of which include '\n",
      " 'options to extend the leases for up to 5 years.   As of December 31, 2022, '\n",
      " 'the Company had operating lease ROU assets of $87.6 million and operating '\n",
      " 'lease liabilities of $92.3 million, of which $18.2 million was current and '\n",
      " '$74.1 million was non-current. During the year ended December 31, 2022, the '\n",
      " 'Company recognized operating lease costs of $22.4 million, which were '\n",
      " 'included in occupancy and equipment expenses in the consolidated statements '\n",
      " 'of operations.   The weighted-average remaining lease term for operating '\n",
      " 'leases as of December 31, 2022, was 5.2 years, and the weighted-average '\n",
      " 'discount rate was 4.8%.   Future minimum lease payments under non-cancelable '\n",
      " 'operating leases as of December 31, 2022, were as follows (in thousands):   '\n",
      " '2023: $20,500 2024: $19,300 2025: $17,800 2026: $15,200 2027: $12,600 '\n",
      " 'Thereafter: $22,400        Total future minimum lease payments: $107,800 '\n",
      " 'Less: imputed interest: $(15,500) Total operating lease liabilities: '\n",
      " '$92,300   Finance Leases   The Company also leases certain equipment under '\n",
      " 'various non-cancelable finance leases. These leases have remaining lease '\n",
      " 'terms ranging from 2 to 5 years.   As of December 31, 2022, the Company had '\n",
      " 'finance lease ROU assets of $6.2 million, which were included in property '\n",
      " 'and equipment, net, on the consolidated balance sheets. The Company had '\n",
      " 'finance lease liabilities of $6.5 million, of which $2.1 million was current '\n",
      " 'and $4.4 million was non-current.   During the year ended December 31, 2022, '\n",
      " 'the Company recognized finance lease costs of $1.8 million, which included '\n",
      " '$1.2 million of amortization expense and $0.6 million of interest expense. '\n",
      " 'These costs were included in depreciation and amortization expense and '\n",
      " 'interest expense, respectively, in the consolidated statements of '\n",
      " 'operations.',\n",
      " 'The Company recognizes the lease payments associated with its short-term '\n",
      " 'leases as an expense on a straight-line basis over the lease term.   '\n",
      " 'Operating lease ROU assets are presented separately on the consolidated '\n",
      " 'balance sheets. Finance leases are included in property and equipment on the '\n",
      " 'consolidated balance sheets. Operating lease liabilities are presented '\n",
      " 'separately as current and non-current liabilities on the consolidated '\n",
      " 'balance sheets.   Operating Leases   The Company leases office spaces, data '\n",
      " 'centers, and equipment under various non-cancelable operating leases. These '\n",
      " 'leases have remaining lease terms ranging from 1 to 10 years, some of which '\n",
      " 'include options to extend the leases for up to 5 years.   As of December 31, '\n",
      " '2022, the Company had operating lease ROU assets of $87.6 million and '\n",
      " 'operating lease liabilities of $92.3 million, of which $18.2 million was '\n",
      " 'current and $74.1 million was non-current. During the year ended December '\n",
      " '31, 2022, the Company recognized operating lease costs of $22.4 million, '\n",
      " 'which were included in occupancy and equipment expenses in the consolidated '\n",
      " 'statements of operations.   The weighted-average remaining lease term for '\n",
      " 'operating leases as of December 31, 2022, was 5.2 years, and the '\n",
      " 'weighted-average discount rate was 4.8%.   Future minimum lease payments '\n",
      " 'under non-cancelable operating leases as of December 31, 2022, were as '\n",
      " 'follows (in thousands):   2023: $20,500 2024: $19,300 2025: $17,800 2026: '\n",
      " '$15,200 2027: $12,600 Thereafter: $22,400        Total future minimum lease '\n",
      " 'payments: $107,800 Less: imputed interest: $(15,500) Total operating lease '\n",
      " 'liabilities: $92,300   Finance Leases   The Company also leases certain '\n",
      " 'equipment under various non-cancelable finance leases. These leases have '\n",
      " 'remaining lease terms ranging from 2 to 5 years.   As of December 31, 2022, '\n",
      " 'the Company had finance lease ROU assets of $6.2 million, which were '\n",
      " 'included in property and equipment, net, on the consolidated balance sheets. '\n",
      " 'The Company had finance lease liabilities of $6.5 million, of which $2.1 '\n",
      " 'million was current and $4.4 million was non-current.']\n"
     ]
    }
   ],
   "source": [
    "# Now let's try with the Hybrid search \n",
    "\n",
    "results = retrieve_and_generate(query = query, kb_id = kb_id, model_arn = model_arn, max_results = 5, search_type='HYBRID')\n",
    "\n",
    "print_generation_results(results)"
   ]
  },
  {
   "cell_type": "markdown",
   "id": "61730438",
   "metadata": {},
   "source": [
    "With HYBRID search we got the right response."
   ]
  },
  {
   "cell_type": "code",
   "execution_count": null,
   "id": "2c41acbc",
   "metadata": {},
   "outputs": [],
   "source": []
  },
  {
   "cell_type": "markdown",
   "id": "d2b7bf0b",
   "metadata": {},
   "source": [
    "### Multi-Query\n",
    "\n",
    "A different approach to improve the relevance of retrieved documents and subsequently FM generations; is based on multi-query concept. Vector databases find documents similar to your query based distance of its embedding to those docuemtns. In which, it creates problems if the wording used in the query is \"closer\" to less relevant documents. That are usually resolved by prompt engineering/query tuning.\n",
    "\n",
    "<img src=\"images/multi-query.png\" width=\"50%\" height=\"30%\">\n",
    "\n",
    "The approach is based on using an FM to generate multiple queries from different perspectives for a given query. For each query, it retrieves a set of relevant documents then uses a distinct set of document across all queries to get a larger set of potentially relevant documents. By generating multiple queries on the same question, this approach might be able to overcome some of the limitations of the distance-based retrieval and get a more comprehensive set of results.\n"
   ]
  },
  {
   "cell_type": "markdown",
   "id": "dbce175a-0e6b-49b5-b5cb-d89180012425",
   "metadata": {},
   "source": [
    "### How to apply multi queries approach? \n",
    "\n",
    "To demonstrate the the multi-queries benefits, we will use the complex question-based approach: \n",
    "\n",
    "`What was the total operating lease liabilities and total sublease income of the Company as of December 31, 2022?`"
   ]
  },
  {
   "cell_type": "markdown",
   "id": "2a213acd",
   "metadata": {},
   "source": [
    "**Using semantic search**"
   ]
  },
  {
   "cell_type": "code",
   "execution_count": 12,
   "id": "4f31ff72",
   "metadata": {},
   "outputs": [
    {
     "name": "stdout",
     "output_type": "stream",
     "text": [
      "Generated FM response:\n",
      "\n",
      "('According to the search results, as of December 31, 2022, the Company had '\n",
      " 'total operating lease liabilities of $92.3 million, of which $18.2 million '\n",
      " 'was current and $74.1 million was non-current. The Company also recognized '\n",
      " 'sublease income of $3.2 million during the year ended December 31, 2022, '\n",
      " 'which was included in other income in the consolidated statements of '\n",
      " 'operations.')\n",
      "\n",
      "\n",
      "\n",
      "Retrieved Context:\n",
      "\n",
      "['The Company recognizes the lease payments associated with its short-term '\n",
      " 'leases as an expense on a straight-line basis over the lease term.   '\n",
      " 'Operating lease ROU assets are presented separately on the consolidated '\n",
      " 'balance sheets. Finance leases are included in property and equipment on the '\n",
      " 'consolidated balance sheets. Operating lease liabilities are presented '\n",
      " 'separately as current and non-current liabilities on the consolidated '\n",
      " 'balance sheets.   Operating Leases   The Company leases office spaces, data '\n",
      " 'centers, and equipment under various non-cancelable operating leases. These '\n",
      " 'leases have remaining lease terms ranging from 1 to 10 years, some of which '\n",
      " 'include options to extend the leases for up to 5 years.   As of December 31, '\n",
      " '2022, the Company had operating lease ROU assets of $87.6 million and '\n",
      " 'operating lease liabilities of $92.3 million, of which $18.2 million was '\n",
      " 'current and $74.1 million was non-current. During the year ended December '\n",
      " '31, 2022, the Company recognized operating lease costs of $22.4 million, '\n",
      " 'which were included in occupancy and equipment expenses in the consolidated '\n",
      " 'statements of operations.   The weighted-average remaining lease term for '\n",
      " 'operating leases as of December 31, 2022, was 5.2 years, and the '\n",
      " 'weighted-average discount rate was 4.8%.   Future minimum lease payments '\n",
      " 'under non-cancelable operating leases as of December 31, 2022, were as '\n",
      " 'follows (in thousands):   2023: $20,500 2024: $19,300 2025: $17,800 2026: '\n",
      " '$15,200 2027: $12,600 Thereafter: $22,400        Total future minimum lease '\n",
      " 'payments: $107,800 Less: imputed interest: $(15,500) Total operating lease '\n",
      " 'liabilities: $92,300   Finance Leases   The Company also leases certain '\n",
      " 'equipment under various non-cancelable finance leases. These leases have '\n",
      " 'remaining lease terms ranging from 2 to 5 years.   As of December 31, 2022, '\n",
      " 'the Company had finance lease ROU assets of $6.2 million, which were '\n",
      " 'included in property and equipment, net, on the consolidated balance sheets. '\n",
      " 'The Company had finance lease liabilities of $6.5 million, of which $2.1 '\n",
      " 'million was current and $4.4 million was non-current.',\n",
      " 'During the year ended December 31, 2022, the Company recognized finance '\n",
      " 'lease costs of $1.8 million, which included $1.2 million of amortization '\n",
      " 'expense and $0.6 million of interest expense. These costs were included in '\n",
      " 'depreciation and amortization expense and interest expense, respectively, in '\n",
      " 'the consolidated statements of operations.   The weighted-average remaining '\n",
      " 'lease term for finance leases as of December 31, 2022, was 3.7 years, and '\n",
      " 'the weighted-average discount rate was 5.2%.   Future minimum lease payments '\n",
      " 'under non-cancelable finance leases as of December 31, 2022, were as follows '\n",
      " '(in thousands):   2023: $2,300 2024: $2,100 2025: $1,600 2026: $900 2027: '\n",
      " '$200 Total future minimum lease payments: $7,100 Less: imputed interest: '\n",
      " '$(600) Total finance lease liabilities: $6,500   Lease Commitments   As of '\n",
      " 'December 31, 2022, the Company had additional operating lease commitments of '\n",
      " '$15.7 million for leases that had not yet commenced, primarily related to '\n",
      " 'new office spaces. These leases are expected to commence between 2023 and '\n",
      " '2024, with lease terms ranging from 5 to 10 years.   Sale-Leaseback '\n",
      " 'Transactions   During the year ended December 31, 2022, the Company '\n",
      " 'completed two sale-leaseback transactions involving certain office buildings '\n",
      " 'and data centers. The Company received total proceeds of $48.5 million from '\n",
      " 'the sales and recognized total gains of $12.8 million, which were included '\n",
      " 'in other income, net, in the consolidated statements of operations.   The '\n",
      " 'Company leased back the properties under operating leases with initial terms '\n",
      " 'ranging from 8 to 10 years. The Company recognized ROU assets and lease '\n",
      " 'liabilities of $35.7 million and $37.2 million, respectively, related to '\n",
      " 'these sale-leaseback transactions as of December 31, 2022.   Lessor '\n",
      " 'Arrangements   The Company also enters into arrangements to sublease certain '\n",
      " 'office spaces to third parties. These sublease arrangements are classified '\n",
      " 'as operating leases, and the Company recognizes sublease income on a '\n",
      " 'straight-line basis over the lease term.        During the year ended '\n",
      " 'December 31, 2022, the Company recognized sublease income of $3.2 million, '\n",
      " 'which was included in other income, net, in the consolidated statements of '\n",
      " 'operations.',\n",
      " 'These sublease arrangements are classified as operating leases, and the '\n",
      " 'Company recognizes sublease income on a straight-line basis over the lease '\n",
      " 'term.        During the year ended December 31, 2022, the Company recognized '\n",
      " 'sublease income of $3.2 million, which was included in other income, net, in '\n",
      " 'the consolidated statements of operations.   As of December 31, 2022, the '\n",
      " 'Company had undiscounted future cash inflows of $9.8 million related to '\n",
      " 'non-cancelable operating subleases, which are expected to be received as '\n",
      " 'follows (in thousands):   2023: $3,100 2024: $2,900 2025: $2,400 2026: '\n",
      " \"$1,200 2027: $200   Significant Judgments and Estimates   The Company's \"\n",
      " 'lease accounting policies require significant judgments and estimates, '\n",
      " 'including the determination of whether a contract contains a lease, the '\n",
      " 'allocation of contract consideration between lease and non-lease components, '\n",
      " 'the determination of the lease term, and the determination of the '\n",
      " 'incremental borrowing rate used to measure lease liabilities.   According to '\n",
      " 'PersonA, the Chief Financial Officer of Octank Financial, \"The determination '\n",
      " 'of whether a contract contains a lease is a critical judgment that requires '\n",
      " 'an evaluation of whether the Company has the right to control the use of an '\n",
      " 'identified asset for a period of time in exchange for consideration. We '\n",
      " 'carefully assess each arrangement to determine if it meets the criteria to '\n",
      " 'be accounted for as a lease.\"   PersonB, the Vice President of Corporate '\n",
      " 'Real Estate, added, \"The allocation of contract consideration between lease '\n",
      " 'and non-lease components can also be complex, particularly for arrangements '\n",
      " 'involving multiple components. We apply judgment in determining the '\n",
      " 'appropriate allocation methodology and standalone prices for each '\n",
      " 'component.\"   The determination of the lease term is another area that '\n",
      " 'requires significant judgment, as it involves assessing the likelihood of '\n",
      " 'exercising renewal or termination options. \"We consider all relevant '\n",
      " 'economic factors, including any significant economic incentives or '\n",
      " 'penalties, to determine the lease term that is reasonably certain,\" '\n",
      " 'explained PersonC, the Director of Lease Accounting.   Finally, the '\n",
      " 'incremental borrowing rate used to measure lease liabilities is a critical '\n",
      " \"estimate that requires consideration of the Company's credit rating, the \"\n",
      " 'lease term, and the economic environment.']\n"
     ]
    }
   ],
   "source": [
    "query = \"What was the total operating lease liabilities and total sublease income of the Company as of December 31, 2022?\"\n",
    "\n",
    "results = retrieve_and_generate(query = query, kb_id = kb_id, model_arn = model_arn, max_results = 5, search_type='SEMANTIC')\n",
    "\n",
    "print_generation_results(results)"
   ]
  },
  {
   "cell_type": "markdown",
   "id": "ab5a6924",
   "metadata": {},
   "source": [
    "**Using multi query search**\n",
    "\n",
    "***Note:*** to simplify the illustration of the multi-query concept, we will use the Langchain library."
   ]
  },
  {
   "cell_type": "code",
   "execution_count": 13,
   "id": "1e40f50e-7d6c-4328-949e-fcdae12a7e4d",
   "metadata": {
    "tags": []
   },
   "outputs": [
    {
     "name": "stderr",
     "output_type": "stream",
     "text": [
      "/Users/mankhanu/Documents/code/github/amazon-bedrock-samples/.venv/lib/python3.12/site-packages/langchain_core/_api/deprecation.py:119: LangChainDeprecationWarning: The class `BedrockChat` was deprecated in LangChain 0.1.0 and will be removed in 0.2.0. Use ChatBedrock instead.\n",
      "  warn_deprecated(\n",
      "/Users/mankhanu/Documents/code/github/amazon-bedrock-samples/.venv/lib/python3.12/site-packages/langchain_core/_api/deprecation.py:119: LangChainDeprecationWarning: The method `BaseRetriever.get_relevant_documents` was deprecated in langchain-core 0.1.46 and will be removed in 0.3.0. Use invoke instead.\n",
      "  warn_deprecated(\n",
      "INFO:langchain.retrievers.multi_query:Generated queries: [\"1. What were the Company's total operating lease liabilities and total sublease income recorded on the balance sheet as of December 31, 2022?'\", \"2. What were the amounts reported for operating lease obligations and sublease rental income in the Company's financial statements for the year ended December 31, 2022?'\", \"3. As of the end of fiscal year 2022, what were the values of the Company's total operating lease liabilities and total sublease income recognized under lease accounting standards?\"]\n"
     ]
    },
    {
     "name": "stdout",
     "output_type": "stream",
     "text": [
      "20\n"
     ]
    }
   ],
   "source": [
    "from langchain.retrievers.multi_query import MultiQueryRetriever\n",
    "from langchain_aws import BedrockChat\n",
    "from langchain_community.retrievers import AmazonKnowledgeBasesRetriever\n",
    "import logging\n",
    "from langchain_core.prompts.prompt import PromptTemplate\n",
    "\n",
    "\n",
    "multi_query_prompt = PromptTemplate(\n",
    "    input_variables=[\"question\"],\n",
    "    template=\"\"\"You are an AI language model assistant. Your task is \n",
    "    to generate 3 different versions of the given user \n",
    "    question to retrieve relevant documents from a vector  database. \n",
    "    By generating multiple perspectives on the user question, \n",
    "    your goal is to help the user overcome some of the limitations \n",
    "    of distance-based similarity search. Provide these alternative \n",
    "    questions separated by a single '\\n'. Original question: {question}\"\"\",\n",
    ")\n",
    "\n",
    "\n",
    "# itiating Knowledge bases for Amazon Bedrock as Langchain retriever\n",
    "retriever = AmazonKnowledgeBasesRetriever(\n",
    "    knowledge_base_id= kb_id,\n",
    "    region_name = region_name,\n",
    "    retrieval_config={\n",
    "        \"vectorSearchConfiguration\": {\n",
    "            \"numberOfResults\": 5\n",
    "        }\n",
    "    }\n",
    ")\n",
    "\n",
    "# Amazon Bedrock runtime client - to invoke LLM\n",
    "bedrock_runtime = boto3_session.client(\"bedrock-runtime\",\n",
    "                              config=bedrock_config)\n",
    "\n",
    "\n",
    "# prepare the FM inference configurations\n",
    "inference_modifier = {\n",
    "    \"temperature\": 0.0\n",
    "}\n",
    "\n",
    "# prepare model id and inference parameters\n",
    "llm = BedrockChat(\n",
    "    model_id = model_id,\n",
    "    client = bedrock_runtime,\n",
    "    model_kwargs = inference_modifier,\n",
    ")\n",
    "\n",
    "\n",
    "# Instantiating the KB as a multi query retreiever\n",
    "retriever_from_llm = MultiQueryRetriever.from_llm(\n",
    "    retriever = retriever, llm = llm, include_original=True, prompt = multi_query_prompt\n",
    ")\n",
    "\n",
    "\n",
    "logging.basicConfig()\n",
    "logging.getLogger(\"langchain.retrievers.multi_query\").setLevel(logging.INFO)\n",
    "\n",
    "\n",
    "unique_docs = retriever_from_llm.get_relevant_documents(query = query)\n",
    "\n",
    "print(len(unique_docs))\n",
    "\n",
    "#print(unique_docs)"
   ]
  },
  {
   "cell_type": "markdown",
   "id": "9dac392d-07e3-475a-8aa4-913609c548dd",
   "metadata": {},
   "source": [
    "As you could tell from the count of unique documents, it is richer than the asking the original question only. It is also expected to get an improved answer based on variety of documents retrieve.\n",
    "\n",
    "Let's contiune with that example and check the final answer:"
   ]
  },
  {
   "cell_type": "code",
   "execution_count": 14,
   "id": "93bae739-b49c-4e55-8d63-2ffb689513c4",
   "metadata": {
    "tags": []
   },
   "outputs": [
    {
     "name": "stdout",
     "output_type": "stream",
     "text": [
      "('According to the context provided, as of December 31, 2022:\\n'\n",
      " '\\n'\n",
      " 'The Company had total operating lease liabilities of $92.3 million, of which '\n",
      " '$18.2 million was current and $74.1 million was non-current.\\n'\n",
      " '\\n'\n",
      " 'The Company recognized sublease income of $3.2 million during the year ended '\n",
      " 'December 31, 2022, which was included in other income, net, in the '\n",
      " 'consolidated statements of operations.')\n"
     ]
    }
   ],
   "source": [
    "final_answer_prompt = PromptTemplate(\n",
    "    input_variables=[\"documents\",\"question\"],\n",
    "    template=\"\"\"You are an AI language model assistant. Your task is to answer \n",
    "    a given user question based on provided context from a vector database. \n",
    "    Use only documents provided in the context to answer the user question. \n",
    "    <context>\n",
    "    {documents}\n",
    "    </context>\n",
    "    \n",
    "    User question: {question}\"\"\",\n",
    ")\n",
    "\n",
    "query = \"What was the total operating lease liabilities and total sublease income of the Company as of December 31, 2022?\"\n",
    "answer= llm.invoke(final_answer_prompt.format(question= query, documents=unique_docs))\n",
    "\n",
    "pp.pprint(answer.content)"
   ]
  },
  {
   "cell_type": "markdown",
   "id": "e690ee0d",
   "metadata": {},
   "source": [
    "<div class=\"alert alert-block alert-warning\">\n",
    "<b>Note:</b> Remember to delete KB, OSS index and related IAM roles and policies to avoid incurring any charges.\n",
    "</div>"
   ]
  }
 ],
 "metadata": {
  "kernelspec": {
   "display_name": "bedrock_env",
   "language": "python",
   "name": "python3"
  },
  "language_info": {
   "codemirror_mode": {
    "name": "ipython",
    "version": 3
   },
   "file_extension": ".py",
   "mimetype": "text/x-python",
   "name": "python",
   "nbconvert_exporter": "python",
   "pygments_lexer": "ipython3",
   "version": "3.10.13"
  }
 },
 "nbformat": 4,
 "nbformat_minor": 5
}
