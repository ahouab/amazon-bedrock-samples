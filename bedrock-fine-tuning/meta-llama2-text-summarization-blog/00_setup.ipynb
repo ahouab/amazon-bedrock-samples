{
 "cells": [
  {
   "cell_type": "markdown",
   "metadata": {},
   "source": [
    "# Setup for Amazon Bedrock fine-tuning\n",
    "\n",
    "The notebook is to fine-tune Meta Llama2 13B in Amazon Bedorck on a summarization task."
   ]
  },
  {
   "cell_type": "markdown",
   "metadata": {},
   "source": [
    "## Setup\n",
    "\n",
    "To prepare the environment"
   ]
  },
  {
   "cell_type": "code",
   "execution_count": null,
   "metadata": {},
   "outputs": [],
   "source": [
    "# to install dependent Python packages\n",
    "!pip install -r requirements.txt"
   ]
  },
  {
   "cell_type": "markdown",
   "metadata": {},
   "source": [
    "After package installation of the above command, please restart your notebook kernel before proceeding."
   ]
  },
  {
   "cell_type": "code",
   "execution_count": null,
   "metadata": {},
   "outputs": [],
   "source": [
    "%env AWS_DEFAULT_REGION=us-east-1\n",
    "%env AWS_PROFILE="
   ]
  },
  {
   "cell_type": "code",
   "execution_count": null,
   "metadata": {},
   "outputs": [],
   "source": [
    "%load_ext autoreload\n",
    "%autoreload 2"
   ]
  },
  {
   "cell_type": "code",
   "execution_count": null,
   "metadata": {},
   "outputs": [],
   "source": [
    "import os\n",
    "\n",
    "from scripts.utils import (\n",
    "    get_aws_account_id,\n",
    "    create_bucket, \n",
    "    create_bedrock_fine_tuning_role\n",
    ")"
   ]
  },
  {
   "cell_type": "code",
   "execution_count": null,
   "metadata": {},
   "outputs": [],
   "source": [
    "# create s3 bucket\n",
    "region = os.environ[\"AWS_DEFAULT_REGION\"]\n",
    "bucket_name = f'bedrock-fine-tuning-blog-{get_aws_account_id()}-{region}'\n",
    "create_bucket(bucket_name, region)\n",
    "print(f\"{bucket_name=}\")\n",
    "\n",
    "# create bedrock fine-tuning role / get the existing one\n",
    "role_name = 'BedrockFineTuningBlogResourceAccessRole'\n",
    "role_arn = create_bedrock_fine_tuning_role(role_name, bucket_name)\n",
    "print(f\"{role_arn=}\")"
   ]
  },
  {
   "cell_type": "markdown",
   "metadata": {},
   "source": [
    "Store the shared variables for downstream fine-tuning tasks."
   ]
  },
  {
   "cell_type": "code",
   "execution_count": null,
   "metadata": {},
   "outputs": [],
   "source": [
    "%store bucket_name\n",
    "%store role_arn"
   ]
  },
  {
   "cell_type": "markdown",
   "metadata": {},
   "source": [
    "Next, please move to [01_llama2-fine-tuning-text-summarization.ipynb](./01\\_llama2-fine-tuning-text-summarization.ipynb)."
   ]
  }
 ],
 "metadata": {
  "kernelspec": {
   "display_name": "bedrock",
   "language": "python",
   "name": "python3"
  },
  "language_info": {
   "codemirror_mode": {
    "name": "ipython",
    "version": 3
   },
   "file_extension": ".py",
   "mimetype": "text/x-python",
   "name": "python",
   "nbconvert_exporter": "python",
   "pygments_lexer": "ipython3",
   "version": "3.10.13"
  }
 },
 "nbformat": 4,
 "nbformat_minor": 2
}
