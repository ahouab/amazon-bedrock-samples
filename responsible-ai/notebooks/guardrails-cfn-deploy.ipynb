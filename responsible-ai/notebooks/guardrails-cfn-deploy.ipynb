{
 "cells": [
  {
   "cell_type": "code",
   "execution_count": null,
   "metadata": {},
   "outputs": [],
   "source": [
    "!pip install boto3\n",
    "\n",
    "import boto3\n",
    "import time\n",
    "from botocore.exceptions import ClientError\n",
    "\n",
    "# AWS Boto3 client setup\n",
    "cloudformation_client = boto3.client('cloudformation')\n",
    "region = boto3.session.Session().region_name"
   ]
  },
  {
   "cell_type": "code",
   "execution_count": null,
   "metadata": {},
   "outputs": [],
   "source": [
    "# Function to deploy CloudFormation stack\n",
    "def deploy_cloudformation(template_file):\n",
    "    with open(template_file, 'r') as file:\n",
    "        cloudformation_template = file.read()\n",
    "    \n",
    "    try:\n",
    "        response = cloudformation_client.create_stack(\n",
    "            StackName='CustomerSupportChatbotGuardrailStack2',\n",
    "            TemplateBody=cloudformation_template,\n",
    "            Capabilities=['CAPABILITY_NAMED_IAM']\n",
    "        )\n",
    "        print(\"CloudFormation stack creation initiated...\")\n",
    "        stack_id = response['StackId']\n",
    "        \n",
    "        # Wait for stack creation to complete\n",
    "        waiter = cloudformation_client.get_waiter('stack_create_complete')\n",
    "        waiter.wait(StackName=stack_id)\n",
    "        print(\"CloudFormation stack created successfully.\")\n",
    "        \n",
    "        # Retrieve the outputs\n",
    "        stack = cloudformation_client.describe_stacks(StackName=stack_id)\n",
    "        outputs = stack['Stacks'][0]['Outputs']\n",
    "        guardrail_identifier = None\n",
    "        for output in outputs:\n",
    "            print(f\"{output['Description']}: {output['Value']}\")\n",
    "            if output['Description'] == 'The unique identifier of the guardrail':\n",
    "                guardrail_identifier = output['Value']\n",
    "        \n",
    "        if guardrail_identifier is not None:\n",
    "            print(f\"Guardrail Identifier: {guardrail_identifier}\")\n",
    "        else:\n",
    "            print(\"Guardrail Identifier not found in the stack outputs.\")\n",
    "        \n",
    "        return outputs, guardrail_identifier\n",
    "    except ClientError as e:\n",
    "        print(f\"Error creating CloudFormation stack: {e}\")\n",
    "\n",
    "#Deploy CloudFormation stack and get the guardrail identifier\n",
    "outputs, guardrail_identifier = deploy_cloudformation(cfn_template_file)"
   ]
  }
 ],
 "metadata": {
  "kernelspec": {
   "display_name": "Python 3",
   "language": "python",
   "name": "python3"
  },
  "language_info": {
   "codemirror_mode": {
    "name": "ipython",
    "version": 3
   },
   "file_extension": ".py",
   "mimetype": "text/x-python",
   "name": "python",
   "nbconvert_exporter": "python",
   "pygments_lexer": "ipython3",
   "version": "3.9.6"
  }
 },
 "nbformat": 4,
 "nbformat_minor": 2
}
